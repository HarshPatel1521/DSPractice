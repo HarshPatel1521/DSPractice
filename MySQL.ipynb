{
 "cells": [
  {
   "cell_type": "markdown",
   "id": "7f7d175d",
   "metadata": {},
   "source": [
    "<code>Conn_obj = mysql.connector.connect(host = <i>'hostname'</i>, user = <i>'username'</i>, passwd = <i>'password'</i>)</code>"
   ]
  },
  {
   "cell_type": "code",
   "execution_count": 6,
   "id": "8c2eac48",
   "metadata": {},
   "outputs": [
    {
     "name": "stdout",
     "output_type": "stream",
     "text": [
      "<mysql.connector.connection.MySQLConnection object at 0x107d5dd80>\n"
     ]
    }
   ],
   "source": [
    "import mysql.connector\n",
    "\n",
    "dbconn = mysql.connector.connect(user = 'root',\n",
    "                              host = 'localhost',\n",
    "                              passwd = '',\n",
    "                                database = \"College\")\n",
    "\n",
    "print(dbconn)\n",
    "\n",
    "# conn.close()"
   ]
  },
  {
   "cell_type": "markdown",
   "id": "5846e8f4",
   "metadata": {},
   "source": [
    "<h3><i>Create Database</i></h3>\n",
    "    <code>connection.cursor().execute(\"CREATE DATABSE (<i>database name</i>)\")</code>"
   ]
  },
  {
   "cell_type": "code",
   "execution_count": 7,
   "id": "be1d2b01",
   "metadata": {},
   "outputs": [
    {
     "name": "stdout",
     "output_type": "stream",
     "text": [
      "College Database is Created\n"
     ]
    }
   ],
   "source": [
    "cursor = dbconncursor()\n",
    "\n",
    "cursor.execute(\"CREATE DATABASE College\")\n",
    "print(\"College Database is Created\")"
   ]
  },
  {
   "cell_type": "code",
   "execution_count": 24,
   "id": "0daadc36",
   "metadata": {},
   "outputs": [
    {
     "name": "stdout",
     "output_type": "stream",
     "text": [
      "<mysql.connector.connection.MySQLConnection object at 0x107061f00>\n",
      "Student Table is Created in the Database\n"
     ]
    }
   ],
   "source": [
    "dbconn = mysql.connector.connect(user = 'root',\n",
    "                                host = 'localhost',\n",
    "                                passwd = '',\n",
    "                                database = 'College')\n",
    "\n",
    "print(dbconn)\n",
    "\n",
    "TableName = \"CREATE TABLE Student(Name VARCHAR(255), Roll_no int);\"\n",
    "\n",
    "cursor = dbconn.cursor()\n",
    "\n",
    "cursor.execute(TableName)\n",
    "print(\"Student Table is Created in the Database\")"
   ]
  },
  {
   "cell_type": "code",
   "execution_count": 51,
   "id": "65a6d21c",
   "metadata": {},
   "outputs": [
    {
     "name": "stdout",
     "output_type": "stream",
     "text": [
      "-1 Details inserted\n"
     ]
    }
   ],
   "source": [
    "dbconn = mysql.connector.connect(user = 'root',\n",
    "                                host = 'localhost',\n",
    "                                passwd = '',\n",
    "                                database = 'College')\n",
    "\n",
    "insert = \"INSERT INTO Student (Name, Roll_no) VALUES (%s, %s)\"\n",
    "val = [(\"Akash\", \"98\"),\n",
    "       (\"Neel\", \"23\"),\n",
    "       (\"Rohan\", \"43\"),\n",
    "       (\"Amit\", \"87\"),\n",
    "       (\"Anil\", \"45\"),\n",
    "       (\"Megha\", \"55\"),\n",
    "       (\"Sita\", \"95\")]\n",
    "\n",
    "for element in range(len(val)):\n",
    "    dbconn.cursor().execute(insert, val[element])\n",
    "    dbconn.commit()\n",
    "\n",
    "print(dbconn.cursor().rowcount, \"Details inserted\")"
   ]
  },
  {
   "cell_type": "code",
   "execution_count": 15,
   "id": "9df4ff1f",
   "metadata": {},
   "outputs": [
    {
     "name": "stdout",
     "output_type": "stream",
     "text": [
      "('Ram', 85)\n",
      "('Akash', 98)\n",
      "('Neel', 23)\n",
      "('Rohan', 43)\n",
      "('Amit', 87)\n",
      "('Anil', 45)\n",
      "('Megha', 55)\n",
      "('Sita', 95)\n"
     ]
    }
   ],
   "source": [
    "import mysql.connector\n",
    "\n",
    "dbconn = mysql.connector.connect(user = 'root',\n",
    "                              host = 'localhost',\n",
    "                              passwd = '',\n",
    "                                database = \"College\")\n",
    "\n",
    "\n",
    "query = \"SELECT * FROM Student\"\n",
    "cursor = dbconn.cursor()\n",
    "cursor.execute(query)\n",
    "\n",
    "data = cursor.fetchall()\n",
    "\n",
    "for info in range(len(data)):\n",
    "    print(data[info])\n",
    "\n",
    "dbconn.close()"
   ]
  },
  {
   "cell_type": "markdown",
   "id": "579580b5",
   "metadata": {},
   "source": [
    "<h3>Close Database connection</h3>"
   ]
  },
  {
   "cell_type": "code",
   "execution_count": 8,
   "id": "8708990d",
   "metadata": {},
   "outputs": [],
   "source": [
    "dbconn.close()"
   ]
  },
  {
   "cell_type": "code",
   "execution_count": 50,
   "id": "b41bfdaa",
   "metadata": {},
   "outputs": [
    {
     "name": "stdout",
     "output_type": "stream",
     "text": [
      "('Akash', '98')\n",
      "('Neel', '23')\n",
      "('Rohan', '43')\n",
      "('Amit', '87')\n",
      "('Anil', '45')\n",
      "('Megha', '55')\n",
      "('Sita', '95')\n"
     ]
    }
   ],
   "source": [
    "# limit = int(input())\n",
    "# list = []\n",
    "# for i in range(limit):\n",
    "#     a = input()\n",
    "#     a = tuple(x for x in a.split(\",\"))\n",
    "#     list.insert(i, a)\n",
    "# print(list)\n",
    "\n",
    "val = [(\"Akash\", \"98\"),\n",
    "       (\"Neel\", \"23\"),\n",
    "       (\"Rohan\", \"43\"),\n",
    "       (\"Amit\", \"87\"),\n",
    "       (\"Anil\", \"45\"),\n",
    "       (\"Megha\", \"55\"),\n",
    "       (\"Sita\", \"95\")]\n",
    "\n",
    "for element in range(len(val)):\n",
    "    print(val[element])"
   ]
  }
 ],
 "metadata": {
  "kernelspec": {
   "display_name": "Python 3 (ipykernel)",
   "language": "python",
   "name": "python3"
  },
  "language_info": {
   "codemirror_mode": {
    "name": "ipython",
    "version": 3
   },
   "file_extension": ".py",
   "mimetype": "text/x-python",
   "name": "python",
   "nbconvert_exporter": "python",
   "pygments_lexer": "ipython3",
   "version": "3.10.9"
  }
 },
 "nbformat": 4,
 "nbformat_minor": 5
}
