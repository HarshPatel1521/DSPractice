{
 "cells": [
  {
   "cell_type": "code",
   "execution_count": 12,
   "id": "daf04391",
   "metadata": {},
   "outputs": [
    {
     "name": "stdout",
     "output_type": "stream",
     "text": [
      "First Array:\n",
      " [[0. 1.]\n",
      " [2. 3.]]\n",
      "Second Array:\n",
      " [12 12]\n",
      "Adding Array 1 with Array 2:\n",
      "[[12. 13.]\n",
      " [14. 15.]]\n",
      "Subtracting Array 1 with Array 2:\n",
      "[[-12. -11.]\n",
      " [-10.  -9.]]\n",
      "Multiplying Array 1 and Array 2:\n",
      "[[ 0. 12.]\n",
      " [24. 36.]]\n",
      "Dividing Array 1 from Array 2:\n",
      "[[0.         0.08333333]\n",
      " [0.16666667 0.25      ]]\n",
      "Reciprocal of Array 2:\n",
      " [0 0]\n"
     ]
    }
   ],
   "source": [
    "#NumPy\n",
    "\n",
    "import numpy as np\n",
    "\n",
    "arr1 = np.arange(4, dtype = np.float_).reshape(2, 2)\n",
    "\n",
    "print(\"First Array:\\n\", arr1)\n",
    "\n",
    "arr2 = np.array([12, 12])\n",
    "print(\"Second Array:\\n\", arr2)\n",
    "\n",
    "print(\"Adding Array 1 with Array 2:\")\n",
    "print(np.add(arr1, arr2))\n",
    "\n",
    "print(\"Subtracting Array 1 with Array 2:\")\n",
    "print(np.subtract(arr1, arr2))\n",
    "\n",
    "print(\"Multiplying Array 1 and Array 2:\")\n",
    "print(np.multiply(arr1, arr2))\n",
    "\n",
    "print(\"Dividing Array 1 from Array 2:\")\n",
    "print(np.divide(arr1, arr2))\n",
    "\n",
    "print(\"Reciprocal of Array 2:\\n\", np.reciprocal(arr2))"
   ]
  },
  {
   "cell_type": "code",
   "execution_count": 15,
   "id": "e3e8a957",
   "metadata": {},
   "outputs": [
    {
     "name": "stdout",
     "output_type": "stream",
     "text": [
      "First Array is:\n",
      " [ 5 10 15]\n",
      "After applying power function with 2:\n",
      " [ 25 100 225]\n",
      "\n",
      "Second array is:\n",
      " [1 2 3]\n",
      "Applying power function to Array 1 with power of Array 2:\n",
      " [   5  100 3375]\n",
      "Mod() Function:\n",
      " [0 0 0]\n",
      "Remiander() function:\n",
      " [0 0 0]\n"
     ]
    }
   ],
   "source": [
    "#Power function\n",
    "\n",
    "import numpy as np\n",
    "\n",
    "arr1 = np.array([5, 10, 15])\n",
    "\n",
    "print(\"First Array is:\\n\", arr1)\n",
    "\n",
    "print(\"After applying power function with 2:\\n\", np.power(arr1, 2))\n",
    "\n",
    "arr2 = np.array([1, 2, 3])\n",
    "print(\"\\nSecond array is:\\n\", arr2)\n",
    "\n",
    "print(\"Applying power function to Array 1 with power of Array 2:\\n\", np.power(arr1, arr2))\n",
    "\n",
    "print(\"Mod() Function:\\n\", np.mod(arr1, arr2))\n",
    "\n",
    "print(\"Remiander() function:\\n\", np.remainder(arr1, arr2))"
   ]
  }
 ],
 "metadata": {
  "kernelspec": {
   "display_name": "Python 3 (ipykernel)",
   "language": "python",
   "name": "python3"
  },
  "language_info": {
   "codemirror_mode": {
    "name": "ipython",
    "version": 3
   },
   "file_extension": ".py",
   "mimetype": "text/x-python",
   "name": "python",
   "nbconvert_exporter": "python",
   "pygments_lexer": "ipython3",
   "version": "3.10.9"
  }
 },
 "nbformat": 4,
 "nbformat_minor": 5
}
