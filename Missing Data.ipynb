{
 "cells": [
  {
   "cell_type": "code",
   "execution_count": 41,
   "id": "42941a9b",
   "metadata": {},
   "outputs": [
    {
     "data": {
      "text/html": [
       "<div>\n",
       "<style scoped>\n",
       "    .dataframe tbody tr th:only-of-type {\n",
       "        vertical-align: middle;\n",
       "    }\n",
       "\n",
       "    .dataframe tbody tr th {\n",
       "        vertical-align: top;\n",
       "    }\n",
       "\n",
       "    .dataframe thead th {\n",
       "        text-align: right;\n",
       "    }\n",
       "</style>\n",
       "<table border=\"1\" class=\"dataframe\">\n",
       "  <thead>\n",
       "    <tr style=\"text-align: right;\">\n",
       "      <th></th>\n",
       "      <th>Second Score</th>\n",
       "    </tr>\n",
       "  </thead>\n",
       "  <tbody>\n",
       "    <tr>\n",
       "      <th>0</th>\n",
       "      <td>30</td>\n",
       "    </tr>\n",
       "    <tr>\n",
       "      <th>1</th>\n",
       "      <td>65</td>\n",
       "    </tr>\n",
       "    <tr>\n",
       "      <th>2</th>\n",
       "      <td>56</td>\n",
       "    </tr>\n",
       "    <tr>\n",
       "      <th>3</th>\n",
       "      <td>56</td>\n",
       "    </tr>\n",
       "  </tbody>\n",
       "</table>\n",
       "</div>"
      ],
      "text/plain": [
       "   Second Score\n",
       "0            30\n",
       "1            65\n",
       "2            56\n",
       "3            56"
      ]
     },
     "execution_count": 41,
     "metadata": {},
     "output_type": "execute_result"
    }
   ],
   "source": [
    "import pandas as pd\n",
    "\n",
    "import numpy as np\n",
    "\n",
    "dict = {'First Score': [100, np.nan, np.nan, 95],\n",
    "       'Second Score': [30, 65, 56, 56],\n",
    "       'Third Score': [40, np.nan, 80, 98],\n",
    "       'Fourth Score': [np.nan, np.nan, np.nan, 65]}\n",
    "\n",
    "df = pd.DataFrame(dict)\n",
    "\n",
    "# df.isnull()  #Display Ture if the value is Null\n",
    "# df.notnull()  #Displat False if the value is Null\n",
    "# df.fillna(0)  #Puts value mentioned in () to missing cells \n",
    "# df.fillna(method = 'pad')  #Fills missing cells with previous values\n",
    "# df.fillna(method = 'bfill')  #Fills missing cells with next values\n",
    "# df.interpolate(method ='linear', limit_direction ='forward')  #Interpolate missing values\n",
    "# df.dropna()  #Drops rows with at least one missing cell\n",
    "# df.dropna(how = 'all') #Drops rows if all cells are Null\n",
    "df.dropna(axis = 1)  #Drops columns if at least one cell is Null"
   ]
  },
  {
   "cell_type": "code",
   "execution_count": 47,
   "id": "e4003cb2",
   "metadata": {},
   "outputs": [
    {
     "name": "stdout",
     "output_type": "stream",
     "text": [
      "Old data frame length:  1000\n",
      "New data frame length:  764\n",
      "Number of rows eleminated with at least 1 N/A values:  236\n"
     ]
    }
   ],
   "source": [
    "data = pd.read_csv(\"employees.csv\")\n",
    "\n",
    "# bool_series = pd.isnull(data[\"Gender\"])\n",
    "# data[bool_series]\n",
    "\n",
    "# not_null = pd.notnull(data['Gender'])\n",
    "# data[not_null]\n",
    "\n",
    "# data[\"Gender\"].fillna(\"No Gender\", inplace = True)\n",
    "# data = data.replace(to_replace = np.nan, value = -99)\n",
    "# data[10:25]\n",
    "\n",
    "new_data = data.dropna(axis = 0, how = 'any')\n",
    "\n",
    "new_data\n",
    "\n",
    "print(\"Old data frame length: \", len(data))\n",
    "print(\"New data frame length: \", len(new_data))\n",
    "print(\"Number of rows eleminated with at least 1 N/A values: \", (len(data)-len(new_data)))"
   ]
  }
 ],
 "metadata": {
  "kernelspec": {
   "display_name": "Python 3 (ipykernel)",
   "language": "python",
   "name": "python3"
  },
  "language_info": {
   "codemirror_mode": {
    "name": "ipython",
    "version": 3
   },
   "file_extension": ".py",
   "mimetype": "text/x-python",
   "name": "python",
   "nbconvert_exporter": "python",
   "pygments_lexer": "ipython3",
   "version": "3.10.9"
  }
 },
 "nbformat": 4,
 "nbformat_minor": 5
}
