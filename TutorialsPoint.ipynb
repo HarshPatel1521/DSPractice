{
 "cells": [
  {
   "cell_type": "markdown",
   "id": "725efcac",
   "metadata": {},
   "source": [
    "# Imports #"
   ]
  },
  {
   "cell_type": "code",
   "execution_count": 4,
   "id": "38ca621c",
   "metadata": {},
   "outputs": [],
   "source": [
    "import pandas as pd\n",
    "import numpy as np"
   ]
  },
  {
   "cell_type": "code",
   "execution_count": 3,
   "id": "b6448eab",
   "metadata": {},
   "outputs": [
    {
     "name": "stdout",
     "output_type": "stream",
     "text": [
      "        name  Age\n",
      "rank1    Tom   28\n",
      "rank2   Jack   34\n",
      "rank3  Steve   29\n",
      "rank4  Ricky   42\n"
     ]
    }
   ],
   "source": [
    "data = {\"name\":['Tom', 'Jack', 'Steve', 'Ricky'], \"Age\":[28, 34, 29, 42]}\n",
    "df = pd.DataFrame(data, index=['rank1', 'rank2', 'rank3', 'rank4'])\n",
    "print(df)"
   ]
  },
  {
   "cell_type": "code",
   "execution_count": 16,
   "id": "2930175a",
   "metadata": {},
   "outputs": [
    {
     "name": "stdout",
     "output_type": "stream",
     "text": [
      "        one       two     three\n",
      "a  1.204057  0.520349  2.032993\n",
      "b       NaN       NaN       NaN\n",
      "c  0.184118 -0.242682 -2.417305\n",
      "d       NaN       NaN       NaN\n",
      "e  0.628638  0.316231  0.694269\n",
      "f  0.233049 -0.249342 -0.831143\n",
      "g       NaN       NaN       NaN\n",
      "h -0.915454  0.693973  1.215587\n",
      "\t\n",
      "a    False\n",
      "b     True\n",
      "c    False\n",
      "d     True\n",
      "e    False\n",
      "f    False\n",
      "g     True\n",
      "h    False\n",
      "Name: one, dtype: bool\n"
     ]
    }
   ],
   "source": [
    "df = pd.DataFrame(np.random.randn(5,3), index=['a', 'c', 'e', 'f', 'h'], columns=['one', 'two', 'three'])\n",
    "\n",
    "df = df.reindex(['a', 'b', 'c', 'd', 'e', 'f', 'g', 'h'])\n",
    "\n",
    "print(df)\n",
    "print(\"\\t\")\n",
    "print(df['one'].isnull())"
   ]
  },
  {
   "cell_type": "code",
   "execution_count": 17,
   "id": "356e7681",
   "metadata": {},
   "outputs": [
    {
     "name": "stdout",
     "output_type": "stream",
     "text": [
      "        one       two     three\n",
      "a  1.204057  0.520349  2.032993\n",
      "b       NaN       NaN       NaN\n",
      "c  0.184118 -0.242682 -2.417305\n",
      "d       NaN       NaN       NaN\n",
      "e  0.628638  0.316231  0.694269\n",
      "f  0.233049 -0.249342 -0.831143\n",
      "g       NaN       NaN       NaN\n",
      "h -0.915454  0.693973  1.215587\n",
      "NaN replaced with '0':\n",
      "        one       two     three\n",
      "a  1.204057  0.520349  2.032993\n",
      "b  0.000000  0.000000  0.000000\n",
      "c  0.184118 -0.242682 -2.417305\n",
      "d  0.000000  0.000000  0.000000\n",
      "e  0.628638  0.316231  0.694269\n",
      "f  0.233049 -0.249342 -0.831143\n",
      "g  0.000000  0.000000  0.000000\n",
      "h -0.915454  0.693973  1.215587\n"
     ]
    }
   ],
   "source": [
    "# df = pd.DataFrame(np.random.randn(3,3), index=['a', 'b', 'c'], columns=['one', 'two', 'three'])\n",
    "# df =df.reindex(['a', 'b', 'c'])\n",
    "print(df)\n",
    "print(\"NaN replaced with '0':\")\n",
    "print(df.fillna(0))"
   ]
  },
  {
   "cell_type": "code",
   "execution_count": null,
   "id": "1f9bcd43",
   "metadata": {},
   "outputs": [],
   "source": []
  }
 ],
 "metadata": {
  "kernelspec": {
   "display_name": "Python 3 (ipykernel)",
   "language": "python",
   "name": "python3"
  },
  "language_info": {
   "codemirror_mode": {
    "name": "ipython",
    "version": 3
   },
   "file_extension": ".py",
   "mimetype": "text/x-python",
   "name": "python",
   "nbconvert_exporter": "python",
   "pygments_lexer": "ipython3",
   "version": "3.10.9"
  }
 },
 "nbformat": 4,
 "nbformat_minor": 5
}
