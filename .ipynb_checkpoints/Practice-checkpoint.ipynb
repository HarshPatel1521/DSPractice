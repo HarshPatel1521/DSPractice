{
 "cells": [
  {
   "cell_type": "code",
   "execution_count": 3,
   "id": "ad7b6704",
   "metadata": {},
   "outputs": [
    {
     "name": "stdout",
     "output_type": "stream",
     "text": [
      "Hello Jupyter Notbook\n"
     ]
    }
   ],
   "source": [
    "print(\"Hello Jupyter Notbook\")"
   ]
  },
  {
   "cell_type": "code",
   "execution_count": 3,
   "id": "25227317",
   "metadata": {},
   "outputs": [
    {
     "name": "stdout",
     "output_type": "stream",
     "text": [
      "Enter number: 5\n",
      "5\n",
      "4\n",
      "3\n",
      "2\n",
      "1\n"
     ]
    }
   ],
   "source": [
    "num = int(input(\"Enter number: \"))\n",
    "while (num > 0):\n",
    "    print(num,\"\\n------------\\n\")\n",
    "    num -=1"
   ]
  }
 ],
 "metadata": {
  "kernelspec": {
   "display_name": "Python 3 (ipykernel)",
   "language": "python",
   "name": "python3"
  },
  "language_info": {
   "codemirror_mode": {
    "name": "ipython",
    "version": 3
   },
   "file_extension": ".py",
   "mimetype": "text/x-python",
   "name": "python",
   "nbconvert_exporter": "python",
   "pygments_lexer": "ipython3",
   "version": "3.10.9"
  }
 },
 "nbformat": 4,
 "nbformat_minor": 5
}
