{
 "cells": [
  {
   "cell_type": "code",
   "execution_count": 3,
   "id": "ad7b6704",
   "metadata": {},
   "outputs": [
    {
     "name": "stdout",
     "output_type": "stream",
     "text": [
      "Hello Jupyter Notbook\n"
     ]
    }
   ],
   "source": [
    "print(\"Hello Jupyter Notbook\")"
   ]
  },
  {
   "cell_type": "markdown",
   "id": "9502f6b2",
   "metadata": {},
   "source": [
    "#### Do While Loop"
   ]
  },
  {
   "cell_type": "code",
   "execution_count": 4,
   "id": "25227317",
   "metadata": {},
   "outputs": [
    {
     "name": "stdout",
     "output_type": "stream",
     "text": [
      "Enter number: 3\n",
      "3 \n",
      "------------\n",
      "\n",
      "2 \n",
      "------------\n",
      "\n",
      "1 \n",
      "------------\n",
      "\n"
     ]
    }
   ],
   "source": [
    "num = int(input(\"Enter number: \"))\n",
    "while (num > 0):\n",
    "    print(num,\"\\n------------\\n\")\n",
    "    num -=1"
   ]
  },
  {
   "cell_type": "markdown",
   "id": "4501119c",
   "metadata": {},
   "source": [
    "#### For loop lists"
   ]
  },
  {
   "cell_type": "code",
   "execution_count": 14,
   "id": "d67ec9c8",
   "metadata": {},
   "outputs": [
    {
     "name": "stdout",
     "output_type": "stream",
     "text": [
      "List Iteration:\n",
      "Data\n",
      "Science\n",
      "With\n",
      "Python\n",
      "\n",
      "Tuple Iteration:\n",
      "Data\n",
      "Science\n",
      "With\n",
      "Python\n",
      "\n",
      "String Iteration:\n",
      "D\n",
      "a\n",
      "t\n",
      "a\n",
      " \n",
      "S\n",
      "c\n",
      "i\n",
      "e\n",
      "n\n",
      "c\n",
      "e\n",
      "\n",
      "Dictionary Iteration:\n",
      "abc -> 123\n",
      "xyz -> 456\n"
     ]
    }
   ],
   "source": [
    "print(\"List Iteration:\")\n",
    "list1 = [\"Data\", \"Science\", \"With\", \"Python\"]\n",
    "for i in list1:\n",
    "    print(i)\n",
    "    \n",
    "print(\"\\nTuple Iteration:\")\n",
    "list2 = (\"Data\", \"Science\", \"With\", \"Python\")\n",
    "for i in list2:\n",
    "    print(i)\n",
    "\n",
    "print(\"\\nString Iteration:\")\n",
    "string1 = \"Data Science\"\n",
    "for i in string1:\n",
    "    print(i)\n",
    "\n",
    "print(\"\\nDictionary Iteration:\")\n",
    "dct = dict()\n",
    "dct['abc'] = 123\n",
    "dct['xyz'] = 456\n",
    "for i in dct:\n",
    "    print(\"%s -> %d\" %(i, dct[i]))"
   ]
  },
  {
   "cell_type": "code",
   "execution_count": 24,
   "id": "385ca216",
   "metadata": {},
   "outputs": [
    {
     "name": "stdout",
     "output_type": "stream",
     "text": [
      "1 \n",
      "2 2 \n",
      "3 3 3 \n",
      "4 4 4 4 \n",
      "5 5 5 5 5 \n",
      "Current Letter:  D\n",
      "Current Letter:  t\n",
      "Current Letter:   \n",
      "Current Letter:  c\n",
      "Current Letter:  i\n",
      "Current Letter:  e\n",
      "Current Letter:  n\n",
      "Current Letter:  c\n",
      "Current Letter:  e\n",
      "\n",
      "Eleminated Letters:  3\n",
      "List 1:\n",
      "This list does not have an even number.\n",
      "\n",
      "List 2:\n",
      "This list have an even number.\n"
     ]
    }
   ],
   "source": [
    "#Pyramids\n",
    "\n",
    "from __future__ import print_function\n",
    "for i in range(1,6):\n",
    "    for j in range(i):\n",
    "        print(i, end=\" \")\n",
    "    print()\n",
    "    \n",
    "#Print letter of string expect a and s\n",
    "\n",
    "eleminated = 0\n",
    "for letters in 'Data Science':\n",
    "    if letters == 'a' or letters == 'A' or letters == 's' or letters == 'S':\n",
    "        eleminated += 1\n",
    "        continue\n",
    "    print('Current Letter: ', letters)\n",
    "\n",
    "print(\"\\nEleminated Letters: \",eleminated)\n",
    "\n",
    "#Defining method for checking even number is present or not in list\n",
    "\n",
    "def even_number(list):\n",
    "    for ele in list:\n",
    "        if ele % 2 == 0:\n",
    "            print(\"This list have an even number.\")\n",
    "            break\n",
    "    \n",
    "    else:\n",
    "        print(\"This list does not have an even number.\")\n",
    "\n",
    "print(\"List 1:\")\n",
    "even_number([1,3,5,7,9])\n",
    "print(\"\\nList 2:\")\n",
    "even_number([2,3,4,5,6,8])"
   ]
  },
  {
   "cell_type": "code",
   "execution_count": 68,
   "id": "aa8ad4b8",
   "metadata": {},
   "outputs": [
    {
     "name": "stdout",
     "output_type": "stream",
     "text": [
      "\n",
      "|*--------------------------------+\n",
      "\n",
      "|1. Sleep Time                   |\n",
      "\n",
      "|2. Prime Number Check           |\n",
      "\n",
      "|3. Cube                         |\n",
      "\n",
      "|4. List of Square               |\n",
      "\n",
      "|5. OOPS                         |\n",
      "\n",
      "+--------------------------------+\n",
      "0. Exit\n",
      "\n",
      "Enter your choice: 0\n"
     ]
    }
   ],
   "source": [
    "#Functions\n",
    "\n",
    "import time\n",
    "\n",
    "#Sleep time\n",
    "def sleep_timer(sec: int):\n",
    "    while sec > 0:\n",
    "        print(sec)\n",
    "        time.sleep(1)\n",
    "        sec = sec - 1\n",
    "\n",
    "#Prime Function\n",
    "def is_prime(num):\n",
    "    \"\"\"Function to check the number is Prime or Not\"\"\"\n",
    "    if num in [2,3]:\n",
    "        return True\n",
    "    if (num == 1) or (num % 2 == 0):\n",
    "        return False\n",
    "    r = 3\n",
    "    while r * r <= num:\n",
    "        if num % r == 0:\n",
    "            return False\n",
    "        r += 2\n",
    "    return True\n",
    "\n",
    "#Cube using Lambda\n",
    "cube = lambda cube : cube*cube*cube\n",
    "\n",
    "#Example for yield instead of return\n",
    "def square_list():\n",
    "    i = 1\n",
    "    \n",
    "    while True:\n",
    "        yield i*i\n",
    "        i += 1\n",
    "\n",
    "#OOPS\n",
    "class laptop(object):\n",
    "    \n",
    "    def __init__(self, brand, model):\n",
    "        self.brand = brand\n",
    "        self.model = model\n",
    "        \n",
    "    def display(self):\n",
    "        print(\"From Laptop Class\\nBrand Name: \",self.brand)\n",
    "        print(\"Model Name: \",self.model)\n",
    "\n",
    "class models(laptop):\n",
    "    \n",
    "    def __init__(self, brand, model, price):\n",
    "        self.price = price\n",
    "    \n",
    "        laptop.__init__(self, brand, model)\n",
    "    \n",
    "    def details(self):\n",
    "        print(\"From Models Class\")\n",
    "        print(\"Brand: {}\".format(self.brand))\n",
    "        print(\"Model: {}\".format(self.model))\n",
    "        print(\"Price: {}\".format(self.price))\n",
    "\n",
    "while True:\n",
    "    print(\"\\n+--------------------------------+\")\n",
    "    print(\"\\n|1. Sleep Time                   |\")\n",
    "    print(\"\\n|2. Prime Number Check           |\")\n",
    "    print(\"\\n|3. Cube                         |\")\n",
    "    print(\"\\n|4. List of Square               |\")\n",
    "    print(\"\\n|5. OOPS                         |\")\n",
    "    print(\"\\n+--------------------------------+\\n0. Exit\\n\")\n",
    "    choice = int(input(\"Enter your choice: \"))\n",
    "    \n",
    "    if choice == 1:\n",
    "        timer = int(input(\"\\nEnter a number for timer: \"))\n",
    "        sleep_timer(timer)\n",
    "    elif choice == 2:\n",
    "        prime = int(input(\"\\nEnter number to check Prime or Not Prime: \"))\n",
    "        print(is_prime(prime))\n",
    "        # .__doc__ is used to print \"\"\"*****\"\"\" line\n",
    "        print(is_prime.__doc__)\n",
    "    elif choice == 3:\n",
    "        num1 = int(input(\"\\nEnter number for cube: \"))\n",
    "        print(cube(num1))\n",
    "    elif choice == 4:\n",
    "        for num2 in square_list():\n",
    "            if num2 > 100:\n",
    "                break\n",
    "            print(num2)\n",
    "    elif choice == 5:\n",
    "        a = models('Apple', 'MacBook Air M1', '91000')\n",
    "        a.display()\n",
    "        a.details()\n",
    "    elif choice == 0:\n",
    "        break"
   ]
  }
 ],
 "metadata": {
  "kernelspec": {
   "display_name": "Python 3 (ipykernel)",
   "language": "python",
   "name": "python3"
  },
  "language_info": {
   "codemirror_mode": {
    "name": "ipython",
    "version": 3
   },
   "file_extension": ".py",
   "mimetype": "text/x-python",
   "name": "python",
   "nbconvert_exporter": "python",
   "pygments_lexer": "ipython3",
   "version": "3.10.9"
  }
 },
 "nbformat": 4,
 "nbformat_minor": 5
}
